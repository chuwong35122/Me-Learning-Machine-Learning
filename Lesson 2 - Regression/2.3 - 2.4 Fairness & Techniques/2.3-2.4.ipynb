{
 "cells": [
  {
   "cell_type": "markdown",
   "metadata": {},
   "source": [
    "<h1>Fairness</h1>"
   ]
  },
  {
   "cell_type": "markdown",
   "metadata": {},
   "source": [
    "- **Allocation** If a gender or ethnicity for example is favored over another.\n",
    "- **Quality of service** If you train the data for one specific scenario but reality is much more complex, it leads to a poor    performing service.\n",
    "- **Stereotyping** Associating a given group with pre-assigned attributes.\n",
    "- **Denigration** To unfairly criticize and label something or someone.\n",
    "- **Over- or under- representation** The idea is that a certain group is not seen in a certain profession, and any service or function that keeps promoting that is contributing to harm."
   ]
  },
  {
   "cell_type": "markdown",
   "metadata": {},
   "source": [
    "## Techniques"
   ]
  },
  {
   "cell_type": "markdown",
   "metadata": {},
   "source": [
    "1. **Questions** - question must not be answered by conditional program or rules-based engine.\n",
    "2. **Collect & Prepare data** - high quality data is needed, as well as visualization, splitting data, training, testing group.\n",
    "3. **Choose Training Method** - choose how model are train for the best accuracy.\n",
    "4. **Train model** - use algorithms to train data.\n",
    "5. **Evaluate model** - collect and see how the model is performing.\n",
    "6. **Parameter tuning**\n",
    "7. **Predict**"
   ]
  },
  {
   "cell_type": "code",
   "execution_count": null,
   "metadata": {},
   "outputs": [],
   "source": []
  }
 ],
 "metadata": {
  "language_info": {
   "name": "python"
  },
  "orig_nbformat": 4
 },
 "nbformat": 4,
 "nbformat_minor": 2
}
